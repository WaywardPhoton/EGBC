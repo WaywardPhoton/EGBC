{
 "cells": [
  {
   "cell_type": "markdown",
   "metadata": {},
   "source": [
    "### Solutions:\n",
    "\n",
    "\n",
    "1.Consider the separation between two rays, $r_1$ and $r_2$ in the image above. Their difference, $\\delta$ is roughly equal to $a sin\\theta$. We  also know that for constructive intereference, $\\delta$ must be an integer multiple $m$ of the wavelength. Writing this out:\n",
    "\n",
    " $$ a sin\\theta = m\\lambda$$ \n",
    "\n",
    "   For very small angles, we can approximate $sin \\theta \\approx \\theta$. Therefore if we measure the separation in angle relative to the $m^{th}$ peak, we can determine the wavelength of the light: \n",
    "\n",
    " $$lambda= \\theta a/m$$\n",
    "\n",
    "We can say that the fringe spacing in general will be $\\Delta \\theta \\approx \\lambda/a$. Therefore, as the slit spacing increases, the angles between fringes become far more narrow. This can be seen by playing with the variable for slit spacing in the online simulation.\n",
    "\n",
    "\n",
    " 2.The pattern that arises out of thick double slits can be found by multiplying the pattern that arises from the thin (point source) double slits with that of a single thick slit, giving a modulated version of the original pattern explored in this experiment. This can be seen by changing the slit width in the simulation. \n",
    "\n",
    " <br>\n",
    "\n",
    "<img src = \"images/intensityy.png\" alt=\"Drawing\" style=\"width: 600px;\"/>\n",
    "\n",
    "<br>\n",
    "\n",
    "Left: thin double slits. Middle: a single thick slit. Right: thick double slits. \n",
    "\n"
   ]
  }
 ],
 "metadata": {
  "interpreter": {
   "hash": "94fe956955f78500cb51710cd18b49cdf54c97b1b0379b73891af6d0f44ee391"
  },
  "kernelspec": {
   "display_name": "Python 3.7.0 ('.venv')",
   "language": "python",
   "name": "python3"
  },
  "language_info": {
   "codemirror_mode": {
    "name": "ipython",
    "version": 3
   },
   "file_extension": ".py",
   "mimetype": "text/x-python",
   "name": "python",
   "nbconvert_exporter": "python",
   "pygments_lexer": "ipython3",
   "version": "3.7.0"
  },
  "orig_nbformat": 4
 },
 "nbformat": 4,
 "nbformat_minor": 2
}
