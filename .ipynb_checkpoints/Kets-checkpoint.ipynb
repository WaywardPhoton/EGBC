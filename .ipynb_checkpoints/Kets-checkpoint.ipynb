{
 "cells": [
  {
   "cell_type": "markdown",
   "metadata": {},
   "source": [
    "## Mathematical Toolkit\n",
    "\n",
    "We're going to move away from the concept of a wavefunction (which admittedly is limited in its usefulness) and start describing particle states using row and column vectors. This is abstract, but allows us to define quantum operations as matrices, which becomes very useful when we need to talk about quantum circuits and algorithms. "
   ]
  },
  {
   "cell_type": "markdown",
   "metadata": {},
   "source": [
    "## Spin Qubits\n",
    "\n",
    "When we introduced qubits, we discussed various ways in which qubits are created for real-world quantum computers. We emphasise that irrespective of the physical structure of qubit (spin, atoms, photons etc.), the mathematical formulation and the concepts remain the same throughout. For simplicity and better visualisation of concepts, we focus on spin qubits here.\n",
    "\n",
    "Electrons can be in either a spin-up quantum state or spin-down quantum state (if you're not certain about where this comes from, check out the Stern Gerlach experiment):\n",
    "<br>\n",
    "\n",
    "![](images/img3.PNG)\n",
    "\n",
    "A spin qubit can be in the $\\uparrow$ state or $\\downarrow$ state or a combination (superposition) of both states. \n",
    "\n",
    "Similar to classical bits which have the classical state 0 or 1, let us call the $\\uparrow$ state the 0 state, and the $\\downarrow$ state the 1 state.\n",
    "New notation can be used to represent these qubit states:\n",
    "\n",
    "$\\uparrow = |0\\rangle  $\n",
    "\n",
    "$ \\downarrow = |1\\rangle $"
   ]
  },
  {
   "cell_type": "markdown",
   "metadata": {},
   "source": [
    "## Ket notation and Vectors"
   ]
  },
  {
   "cell_type": "markdown",
   "metadata": {},
   "source": [
    "The symbols $|\\;\\rangle$ used to describe the qubits are just a fashionable way of describing simple vectors as given below:\n",
    "\n",
    "$|0 \\rangle\\;=\\;\\begin{bmatrix} 1 \\\\ 0 \\end{bmatrix}$\n",
    "<br>\n",
    "\n",
    "$|1 \\rangle\\;=\\;\\begin{bmatrix} 0 \\\\ 1 \\end{bmatrix}$\n"
   ]
  },
  {
   "cell_type": "markdown",
   "metadata": {},
   "source": [
    "\n",
    "We can define the transpose of the and vectors as:\n",
    "\n",
    "$\\langle0| \\;=\\;\\begin{bmatrix} 1 \\; 0 \\end{bmatrix}$\n",
    "<br>\n",
    "\n",
    "$\\langle1| \\;=\\;\\begin{bmatrix} 0 \\; 1 \\end{bmatrix}$\n",
    "\n",
    "Defining quantum states using such symbols is called bra-ket notation where $|\\rangle$ is the ket vectors and $\\langle|$ is the bra vector. The nomenclature originates from the sense of humor of physicists who broke the word bracket into two to define the quantum states! "
   ]
  },
  {
   "cell_type": "markdown",
   "metadata": {},
   "source": [
    "### Inner products\n",
    "\n",
    "Since quantum states are nothing but vectors (matrices), we can multiply these vectors with one another to obtain interesting results. If we multiply a bra state with a ket state, the result is a inner product, also known as dot product or scalar product.  For instance, let us multiply the $\\langle 0|$  state with $|1 \\rangle$ . The product is represented as $\\langle 0|1\\rangle$.  Evaluating , we obtain: \n",
    "\n",
    "$$\\langle 0|1\\rangle =  \\begin{bmatrix} 1 \\; 0 \\end{bmatrix} \\begin{bmatrix} 0 \\\\ 1 \\end{bmatrix} = 0$$\n",
    "\n",
    "Two important properties: different quantum states that are used as basis states must have an inner product of zero (orthogonality), while the inner product of a quantum state with itself must be 1 (normalization)."
   ]
  },
  {
   "cell_type": "code",
   "execution_count": 1,
   "metadata": {},
   "outputs": [],
   "source": [
    "from IPython.display import HTML"
   ]
  },
  {
   "cell_type": "code",
   "execution_count": 2,
   "metadata": {},
   "outputs": [
    {
     "data": {
      "text/html": [
       "\n",
       "\n",
       "<iframe id=\"interactApp60f7b723a4743a00171f0bd5\" width=\"800\" height=\"800\" style=\"border:none;max-width:100%;margin:0;\" allowTransparency=\"true\" frameborder=\"0\" src=\"https://quiz.tryinteract.com/#/60f7b723a4743a00171f0bd5?method=iframe\"></iframe>\n"
      ],
      "text/plain": [
       "<IPython.core.display.HTML object>"
      ]
     },
     "metadata": {},
     "output_type": "display_data"
    }
   ],
   "source": [
    "%%html\n",
    "\n",
    "\n",
    "<iframe id=\"interactApp60f7b723a4743a00171f0bd5\" width=\"800\" height=\"800\" style=\"border:none;max-width:100%;margin:0;\" allowTransparency=\"true\" frameborder=\"0\" src=\"https://quiz.tryinteract.com/#/60f7b723a4743a00171f0bd5?method=iframe\"></iframe>"
   ]
  },
  {
   "cell_type": "markdown",
   "metadata": {},
   "source": []
  }
 ],
 "metadata": {
  "interpreter": {
   "hash": "4d3518c3542c62f110d16b67e2157db2a63aff78d42334af1f953d86a510ccc1"
  },
  "kernelspec": {
   "display_name": "Python 3",
   "language": "python",
   "name": "python3"
  },
  "language_info": {
   "codemirror_mode": {
    "name": "ipython",
    "version": 3
   },
   "file_extension": ".py",
   "mimetype": "text/x-python",
   "name": "python",
   "nbconvert_exporter": "python",
   "pygments_lexer": "ipython3",
   "version": "3.7.0"
  }
 },
 "nbformat": 4,
 "nbformat_minor": 2
}
