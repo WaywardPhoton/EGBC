{
 "cells": [
  {
   "cell_type": "markdown",
   "metadata": {},
   "source": [
    "\n",
    "### Orthonormality\n",
    "\n",
    "In the last exercise question, we discovered that the inner product or scalar product of two different quantum states, $ |0\\rangle $ or $|1\\rangle$   results in 0. This property of the quantum states is called orthogonality. Moreover, we realized that the inner product of two same quantum states, such as  $ |0\\rangle $ and  $ |0\\rangle $ , always results in 1. This property is called normality. Combining these two properties, gives us the most crucial characteristic of the quantum state vectors - orthonormality. \n",
    "\n",
    "The quantum states $ |0\\rangle $ and $|1\\rangle$ are special vector states called basis vectors. What that means is that you can construct any quantum state by a combination (such as addition, subtraction, multiplication by a number) of these vectors. Moreover these basis vectors are *orthonormal*. \n",
    "\n",
    "### Superposition \n",
    "\n",
    "Now that you've seen how to work with vectors, let's take a look at how superposition is expressed in this format. \n",
    "\n",
    "The $ |0\\rangle $ and $|1\\rangle$ quantum states are easy to visualize (eg spin-up or spin-down) - similar to classical bits. Now we will see the real beauty of quantum mechanics manifested in the way we write more complex qubit states.\n",
    "\n",
    "Since $ |0\\rangle $ and $|1\\rangle$ qubit states form basis vectors, it is possible to define a new qubit state which is a linear combination of the two. This means that any linear combination of $ |0\\rangle $ and $|1\\rangle$  gives rise to a different quantum state. Some examples of qubits formed by linear combination are:\n",
    "- $|q_1\\rangle \\;=\\; 0.6|0\\rangle +0.8|1\\rangle$\n",
    "- $|q_2\\rangle \\;=\\; \\frac{1}{\\sqrt{2}}|0\\rangle +\\frac{1}{\\sqrt{2}}|1\\rangle$\n",
    "- $|q_3\\rangle \\;=\\; \\frac{1}{2}|0\\rangle +\\frac{\\sqrt{3}}{2}|1\\rangle$\n",
    "\n",
    "This linear combination results in a completely new qubit state, and is called a *superposition*. Superposition is a quantum phenomenon. Unlike a classical mixture, a superposition implies inherent uncertainty in the measurement outcome of the state. We can also convert this into conventional vector form. For instance,  $|q_1\\rangle \\;=\\; 0.6|0\\rangle +0.8|1\\rangle$ can be written as $\\begin{bmatrix} 0.6 \\\\ 0.8 \\end{bmatrix}$.\n",
    "\n",
    "For a quantum state to be valid, its vector representation must have a length of 1. This is often referred to as 'normalization'. \n",
    "We can see this by thinking of the state as a vector and applying Pythagoras' theorem, such that a state $a|0\\rangle+ b|0\\rangle$ will have $a^2+b^2=1$"
   ]
  },
  {
   "cell_type": "markdown",
   "metadata": {},
   "source": [
    "In fact, there's a very useful tool we can use to visualize states that appears often in documentation, called the Bloch sphere. This tool maps the states $|0\\rangle$ and $|1\\rangle$ to opposite poles of a sphere, like the north and south poles of a bar magnet (or the earth!). These states appear at opposite poles because they are opposed to each other: the zero, or $|0\\rangle$ state contains none of the $|1\\rangle$ state and vice versa. These vectors are at right angles on the cartesian plane, and are 180 degrees apart on the sphere. \n",
    "\n",
    "Let's take a look at these states on the Bloch sphere:\n",
    "\n",
    "<br>\n",
    "\n",
    "<img src = \"images/bloch_mod.png\" alt=\"Drawing\" style=\"width: 300px;\"/>\n",
    "\n",
    "<br>\n",
    "\n",
    "There are two other states of interest that we will be dealing with that are worth mentioning: you might have noticed the $|+\\rangle$ and $|-\\rangle$ states on the Bloch sphere. These are superpositions of the $|0\\rangle$ and $|1\\rangle$ states in equal parts: \n",
    "\n",
    "$$|+\\rangle= \\frac{1}{\\sqrt{2}}(|0\\rangle+ 1\\rangle)$$ \n",
    "\n",
    "\n",
    "$$|-\\rangle= \\frac{1}{\\sqrt{2}}(|0\\rangle - 1\\rangle)$$\n",
    "\n",
    "You'll notice that these are very similar: the only difference is  the minus sign instead of the plus sign. This is not something we need to worry about: we'll exlpore these state in an activity shortly. \n"
   ]
  },
  {
   "cell_type": "markdown",
   "metadata": {},
   "source": [
    "The next section will load a quiz into the notebook for you. To run the quiz, click into the code cells below and hit [Shift]+ [Enter]. You can also click Kernel >> Restart and Run All in the toolbar. "
   ]
  },
  {
   "cell_type": "code",
   "execution_count": 1,
   "metadata": {},
   "outputs": [],
   "source": [
    "from IPython.display import HTML\n"
   ]
  },
  {
   "cell_type": "code",
   "execution_count": 5,
   "metadata": {},
   "outputs": [
    {
     "data": {
      "text/html": [
       "<iframe id=\"interactApp60f9145fc7033e00178e24f9\" width=\"800\" height=\"800\" style=\"border:none;max-width:100%;margin:0;\" allowTransparency=\"true\" frameborder=\"0\" src=\"https://quiz.tryinteract.com/#/60f9145fc7033e00178e24f9?method=iframe\"></iframe>\n"
      ],
      "text/plain": [
       "<IPython.core.display.HTML object>"
      ]
     },
     "metadata": {},
     "output_type": "display_data"
    }
   ],
   "source": [
    "\n",
    "%%html\n",
    "<iframe id=\"interactApp60f9145fc7033e00178e24f9\" width=\"800\" height=\"800\" style=\"border:none;max-width:100%;margin:0;\" allowTransparency=\"true\" frameborder=\"0\" src=\"https://quiz.tryinteract.com/#/60f9145fc7033e00178e24f9?method=iframe\"></iframe>"
   ]
  }
 ],
 "metadata": {
  "interpreter": {
   "hash": "94fe956955f78500cb51710cd18b49cdf54c97b1b0379b73891af6d0f44ee391"
  },
  "kernelspec": {
   "display_name": "Python 3.7.0 ('.venv')",
   "language": "python",
   "name": "python3"
  },
  "language_info": {
   "codemirror_mode": {
    "name": "ipython",
    "version": 3
   },
   "file_extension": ".py",
   "mimetype": "text/x-python",
   "name": "python",
   "nbconvert_exporter": "python",
   "pygments_lexer": "ipython3",
   "version": "3.7.0"
  },
  "orig_nbformat": 4
 },
 "nbformat": 4,
 "nbformat_minor": 2
}
